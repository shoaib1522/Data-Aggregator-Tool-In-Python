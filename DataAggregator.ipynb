{
 "cells": [
  {
   "cell_type": "markdown",
   "metadata": {},
   "source": [
    "# Assignment 2: Building a Smart Data Aggregator\n",
    "\n",
    "This notebook implements various Python functions for handling user data, transaction data, sets, and dictionaries as required in the assignment. Each part will be broken down step by step.\n",
    "Starting it!"
   ]
  },
  {
   "cell_type": "markdown",
   "metadata": {},
   "source": [
    "## Part 1: User Data Processing with Lists\n",
    "\n",
    "In this section, we will process a list of user data (as tuples), where each tuple contains the user_id, user_name, age, and country. We will:\n",
    "\n",
    "1. Filter out users older than 30 from 'USA' and 'Canada'.\n",
    "2. Extract their names into a new list.\n",
    "3. Sort the list by age and return the top 10 oldest users.\n",
    "4. Check for duplicate names in the list.\n"
   ]
  },
  {
   "cell_type": "code",
   "execution_count": 2,
   "metadata": {},
   "outputs": [
    {
     "name": "stdout",
     "output_type": "stream",
     "text": [
      "Filtered users: ['Bob', 'Charlie', 'Eve', 'Frank', 'Hannah', 'Ivy', 'Mona', 'Nate', 'Paula', 'Quinn', 'Rachel', 'Sam', 'Tina']\n",
      "Top 10 oldest users: [(9, 'Ivy', 45, 'USA'), (19, 'Sam', 42, 'USA'), (18, 'Rachel', 41, 'USA'), (5, 'Eve', 40, 'USA'), (20, 'Tina', 39, 'Canada'), (16, 'Paula', 38, 'USA'), (13, 'Mona', 36, 'USA'), (3, 'Charlie', 35, 'USA'), (14, 'Nate', 34, 'Canada'), (6, 'Frank', 33, 'Canada')]\n",
      "Duplicate names: []\n"
     ]
    }
   ],
   "source": [
    "# Example data: A list of user tuples\n",
    "users = [\n",
    "    (1, 'Alice', 25, 'USA'),\n",
    "    (2, 'Bob', 32, 'Canada'),\n",
    "    (3, 'Charlie', 35, 'USA'),\n",
    "    (4, 'David', 28, 'Mexico'),\n",
    "    (5, 'Eve', 40, 'USA'),\n",
    "    (6, 'Frank', 33, 'Canada'),\n",
    "    (7, 'Grace', 29, 'Germany'),\n",
    "    (8, 'Hannah', 31, 'Canada'),\n",
    "    (9, 'Ivy', 45, 'USA'),\n",
    "    (10, 'Jack', 22, 'Canada'),\n",
    "    (11, 'Kim', 30, 'Australia'),\n",
    "    (12, 'Leo', 27, 'USA'),\n",
    "    (13, 'Mona', 36, 'USA'),\n",
    "    (14, 'Nate', 34, 'Canada'),\n",
    "    (15, 'Oscar', 29, 'UK'),\n",
    "    (16, 'Paula', 38, 'USA'),\n",
    "    (17, 'Quinn', 31, 'Canada'),\n",
    "    (18, 'Rachel', 41, 'USA'),\n",
    "    (19, 'Sam', 42, 'USA'),\n",
    "    (20, 'Tina', 39, 'Canada')\n",
    "]\n",
    "\n",
    "# 1. Filter out users older than 30 from 'USA' and 'Canada' and extract their names\n",
    "def filter_users(users):\n",
    "    filtered_users = [user[1] for user in users if user[2] > 30 and user[3] in ['USA', 'Canada']]\n",
    "    return filtered_users\n",
    "\n",
    "# 2. Sort by age and return the top 10 oldest users\n",
    "def top_10_oldest(users):\n",
    "    sorted_users = sorted(users, key=lambda x: x[2], reverse=True)\n",
    "    return sorted_users[:10]\n",
    "\n",
    "# 3. Check for duplicate names\n",
    "def find_duplicate_names(users):\n",
    "    names = [user[1] for user in users]\n",
    "    duplicates = [name for name in set(names) if names.count(name) > 1]\n",
    "    return duplicates\n",
    "\n",
    "# Testing the functions\n",
    "print(\"Filtered users:\", filter_users(users))\n",
    "print(\"Top 10 oldest users:\", top_10_oldest(users))\n",
    "print(\"Duplicate names:\", find_duplicate_names(users))\n"
   ]
  },
  {
   "cell_type": "markdown",
   "metadata": {},
   "source": [
    "## Part 2: Immutable Data Management with Tuples\n",
    "\n",
    "We will handle transaction data stored in tuples. Each transaction contains transaction_id, user_id, amount, and timestamp. The tasks are:\n",
    "\n",
    "1. Count the number of unique users.\n",
    "2. Find the transaction with the highest amount.\n",
    "3. Separate the transaction_ids and user_ids into two lists.\n"
   ]
  },
  {
   "cell_type": "code",
   "execution_count": 3,
   "metadata": {},
   "outputs": [
    {
     "name": "stdout",
     "output_type": "stream",
     "text": [
      "Unique users: 9\n",
      "Highest transaction: (108, 6, 500.0, '2024-10-19')\n",
      "Transaction IDs and User IDs: ([101, 102, 103, 104, 105, 106, 107, 108, 109, 110, 111, 112, 113, 114], [1, 2, 1, 3, 4, 2, 5, 6, 3, 7, 8, 9, 4, 5])\n"
     ]
    }
   ],
   "source": [
    "# Expanded example transaction data for Part 2\n",
    "transactions = [\n",
    "    (101, 1, 100.50, '2024-10-12'),\n",
    "    (102, 2, 200.75, '2024-10-13'),\n",
    "    (103, 1, 150.00, '2024-10-14'),\n",
    "    (104, 3, 250.00, '2024-10-15'),\n",
    "    (105, 4, 300.00, '2024-10-16'),\n",
    "    (106, 2, 50.00, '2024-10-17'),\n",
    "    (107, 5, 120.00, '2024-10-18'),\n",
    "    (108, 6, 500.00, '2024-10-19'),\n",
    "    (109, 3, 275.00, '2024-10-20'),\n",
    "    (110, 7, 320.00, '2024-10-21'),\n",
    "    (111, 8, 400.00, '2024-10-22'),\n",
    "    (112, 9, 220.00, '2024-10-23'),\n",
    "    (113, 4, 180.00, '2024-10-24'),\n",
    "    (114, 5, 50.00, '2024-10-25')\n",
    "]\n",
    "\n",
    "\n",
    "# 1. Count unique users\n",
    "def count_unique_users(transactions):\n",
    "    unique_users = set(transaction[1] for transaction in transactions)\n",
    "    return len(unique_users)\n",
    "\n",
    "# 2. Find the transaction with the highest amount\n",
    "def highest_transaction(transactions):\n",
    "    return max(transactions, key=lambda x: x[2])\n",
    "\n",
    "# 3. Separate transaction_ids and user_ids\n",
    "def split_transactions(transactions):\n",
    "    transaction_ids = [transaction[0] for transaction in transactions]\n",
    "    user_ids = [transaction[1] for transaction in transactions]\n",
    "    return transaction_ids, user_ids\n",
    "\n",
    "# Testing the functions\n",
    "print(\"Unique users:\", count_unique_users(transactions))\n",
    "print(\"Highest transaction:\", highest_transaction(transactions))\n",
    "print(\"Transaction IDs and User IDs:\", split_transactions(transactions))\n"
   ]
  },
  {
   "cell_type": "markdown",
   "metadata": {},
   "source": [
    "## Part 3: Unique Data Handling with Sets\n",
    "\n",
    "This part deals with managing unique sets of user IDs who visited different pages. We will:\n",
    "\n",
    "1. Find users who visited both Page A and Page B.\n",
    "2. Find users who visited either Page A or Page C but not both.\n",
    "3. Update the set for Page A with new user IDs.\n",
    "4. Remove a list of user IDs from Page B.\n"
   ]
  },
  {
   "cell_type": "code",
   "execution_count": 4,
   "metadata": {},
   "outputs": [
    {
     "name": "stdout",
     "output_type": "stream",
     "text": [
      "Users who visited both Page A and Page B: {9, 3, 4}\n",
      "Users who visited either Page A or Page C but not both: {2, 3, 4, 7, 9, 10, 11, 14, 15}\n",
      "Updated Page A: {1, 2, 3, 4, 8, 9, 10, 11}\n",
      "Updated Page B: {4, 5, 6, 9, 12, 13}\n"
     ]
    }
   ],
   "source": [
    "# Expanded example sets for Part 3\n",
    "page_a = {1, 2, 3, 4, 8, 9, 10, 11}\n",
    "page_b = {3, 4, 5, 6, 9, 12, 13}\n",
    "page_c = {1, 7, 8, 14, 15}\n",
    "\n",
    "\n",
    "# 1. Users who visited both Page A and Page B\n",
    "def visited_both(page_a, page_b):\n",
    "    return page_a & page_b\n",
    "\n",
    "# 2. Users who visited either Page A or Page C but not both\n",
    "def visited_either_but_not_both(page_a, page_c):\n",
    "    return page_a ^ page_c\n",
    "\n",
    "# 3. Update Page A with new user IDs\n",
    "def update_page_a(page_a, new_users):\n",
    "    page_a.update(new_users)\n",
    "    return page_a\n",
    "\n",
    "# 4. Remove users from Page B\n",
    "def remove_from_page_b(page_b, remove_users):\n",
    "    page_b.difference_update(remove_users)\n",
    "    return page_b\n",
    "\n",
    "# Testing the functions\n",
    "new_users = {8, 9}\n",
    "users_to_remove = {3}\n",
    "\n",
    "print(\"Users who visited both Page A and Page B:\", visited_both(page_a, page_b))\n",
    "print(\"Users who visited either Page A or Page C but not both:\", visited_either_but_not_both(page_a, page_c))\n",
    "print(\"Updated Page A:\", update_page_a(page_a, new_users))\n",
    "print(\"Updated Page B:\", remove_from_page_b(page_b, users_to_remove))\n"
   ]
  },
  {
   "cell_type": "markdown",
   "metadata": {},
   "source": [
    "## Part 4: Data Aggregation with Dictionaries\n",
    "\n",
    "In this part, we will handle feedback data stored in dictionaries. The tasks are:\n",
    "\n",
    "1. Filter users with a rating of 4 or higher.\n",
    "2. Sort the dictionary by rating and return the top 5 users.\n",
    "3. Combine feedback from multiple dictionaries.\n",
    "4. Use dictionary comprehension to filter users with a rating greater than 3.\n"
   ]
  },
  {
   "cell_type": "code",
   "execution_count": 5,
   "metadata": {},
   "outputs": [
    {
     "name": "stdout",
     "output_type": "stream",
     "text": [
      "Users with rating 4 or higher: {1: 5, 3: 4, 5: 4, 6: 5, 8: 4, 11: 5, 12: 4}\n",
      "Top 5 feedback: [(1, {'rating': 5, 'comments': 'Great!'}), (6, {'rating': 5, 'comments': 'Excellent!'}), (11, {'rating': 5, 'comments': 'Perfect!'}), (3, {'rating': 4, 'comments': 'Good.'}), (5, {'rating': 4, 'comments': 'Nice.'})]\n",
      "Combined feedback: {1: {'rating': 5, 'comments': 'Great! | Good job!'}, 2: {'rating': 3, 'comments': 'Okay.'}, 3: {'rating': 4, 'comments': 'Good.'}, 4: {'rating': 2, 'comments': 'Bad.'}, 5: {'rating': 4, 'comments': 'Nice.'}, 6: {'rating': 5, 'comments': 'Excellent! | Could be better.'}, 7: {'rating': 3, 'comments': 'Could be better.'}, 8: {'rating': 4, 'comments': 'Pretty good!'}, 9: {'rating': 1, 'comments': 'Terrible.'}, 10: {'rating': 2, 'comments': 'Not happy.'}, 11: {'rating': 5, 'comments': 'Perfect!'}, 12: {'rating': 4, 'comments': 'Very good.'}}\n",
      "Users with rating above 3: {1: 5, 3: 4, 5: 4, 6: 5, 8: 4, 11: 5, 12: 4}\n"
     ]
    }
   ],
   "source": [
    "# Expanded example dictionary of feedback for Part 4\n",
    "feedback = {\n",
    "    1: {'rating': 5, 'comments': 'Great!'},\n",
    "    2: {'rating': 3, 'comments': 'Okay.'},\n",
    "    3: {'rating': 4, 'comments': 'Good.'},\n",
    "    4: {'rating': 2, 'comments': 'Bad.'},\n",
    "    5: {'rating': 4, 'comments': 'Nice.'},\n",
    "    6: {'rating': 5, 'comments': 'Excellent!'},\n",
    "    7: {'rating': 3, 'comments': 'Could be better.'},\n",
    "    8: {'rating': 4, 'comments': 'Pretty good!'},\n",
    "    9: {'rating': 1, 'comments': 'Terrible.'},\n",
    "    10: {'rating': 2, 'comments': 'Not happy.'},\n",
    "    11: {'rating': 5, 'comments': 'Perfect!'},\n",
    "    12: {'rating': 4, 'comments': 'Very good.'}\n",
    "}\n",
    "\n",
    "\n",
    "# 1. Filter users with a rating of 4 or higher\n",
    "def filter_high_ratings(feedback):\n",
    "    return {user_id: info['rating'] for user_id, info in feedback.items() if info['rating'] >= 4}\n",
    "\n",
    "# 2. Sort feedback by rating\n",
    "def top_5_feedback(feedback):\n",
    "    sorted_feedback = sorted(feedback.items(), key=lambda x: x[1]['rating'], reverse=True)\n",
    "    return sorted_feedback[:5]\n",
    "\n",
    "# 3. Combine feedback from multiple dictionaries\n",
    "def combine_feedback(dict1, dict2):\n",
    "    combined = dict1.copy()\n",
    "    for user_id, info in dict2.items():\n",
    "        if user_id in combined:\n",
    "            combined[user_id]['rating'] = max(combined[user_id]['rating'], info['rating'])\n",
    "            combined[user_id]['comments'] += \" | \" + info['comments']\n",
    "        else:\n",
    "            combined[user_id] = info\n",
    "    return combined\n",
    "\n",
    "# 4. Dictionary comprehension for rating > 3\n",
    "def filter_rating_above_3(feedback):\n",
    "    return {user_id: info['rating'] for user_id, info in feedback.items() if info['rating'] > 3}\n",
    "\n",
    "# Testing the functions\n",
    "print(\"Users with rating 4 or higher:\", filter_high_ratings(feedback))\n",
    "print(\"Top 5 feedback:\", top_5_feedback(feedback))\n",
    "\n",
    "feedback2 = {\n",
    "    1: {'rating': 4, 'comments': 'Good job!'},\n",
    "    6: {'rating': 3, 'comments': 'Could be better.'}\n",
    "}\n",
    "print(\"Combined feedback:\", combine_feedback(feedback, feedback2))\n",
    "print(\"Users with rating above 3:\", filter_rating_above_3(feedback))\n"
   ]
  },
  {
   "cell_type": "markdown",
   "metadata": {},
   "source": [
    "## Conclusion\n",
    "\n",
    "In this notebook, we successfully implemented Python functions to process lists, tuples, sets, and dictionaries. Each function was designed with efficiency and simplicity in mind, helping to build the core of a Smart Data Aggregator tool.\n"
   ]
  }
 ],
 "metadata": {
  "kernelspec": {
   "display_name": "Python 3",
   "language": "python",
   "name": "python3"
  },
  "language_info": {
   "codemirror_mode": {
    "name": "ipython",
    "version": 3
   },
   "file_extension": ".py",
   "mimetype": "text/x-python",
   "name": "python",
   "nbconvert_exporter": "python",
   "pygments_lexer": "ipython3",
   "version": "3.12.1"
  }
 },
 "nbformat": 4,
 "nbformat_minor": 2
}
